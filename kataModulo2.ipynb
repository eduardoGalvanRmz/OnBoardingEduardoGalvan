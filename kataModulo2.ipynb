{
 "cells": [
  {
   "cell_type": "markdown",
   "metadata": {},
   "source": [
    "# Crea un entorno virtual\n",
    "\n",
    "Crea un entorno virtual mediante venv\n",
    "\n",
    "Ejecutar en su terminal: *python3 -m venv env o bien python -m venv env*\n",
    "\n",
    "*python3 -m venv env* \n",
    "\n",
    "# Activar entorno vitual en Wnidows:\n",
    "\n",
    "*python -m venv env Ahora tienes un directorio (folder) env creado en tu terminal.*\n",
    "\n",
    "Para activar el entorno virtual: Dese terminal ir a la ubicación desde la siguiente carpeta: *\\env\\Scripts\\env* y ejecutar el programa *activate.bat*\n",
    "\n",
    "# Instalar una biblioteca\n",
    "pip freeze = para ver bibliotecas instaladas\n",
    "pip install \"nombre de la biblioteca\" = para instalar una biblioteca\n",
    "\n",
    "\n",
    "# Desactivar un entorno virtual\n",
    "\n",
    "En la terminal escribes *deactive* y se descativa el entorno virtual, ahora estas fuera del entorno."
   ]
  }
 ],
 "metadata": {
  "interpreter": {
   "hash": "669f5abd92f1a410df15b0643b9f42360e277a412fc08ae8bc7d7911cf7e8f3d"
  },
  "kernelspec": {
   "display_name": "Python 3.10.2 64-bit",
   "language": "python",
   "name": "python3"
  },
  "language_info": {
   "codemirror_mode": {
    "name": "ipython",
    "version": 3
   },
   "file_extension": ".py",
   "mimetype": "text/x-python",
   "name": "python",
   "nbconvert_exporter": "python",
   "pygments_lexer": "ipython3",
   "version": "3.10.2"
  },
  "orig_nbformat": 4
 },
 "nbformat": 4,
 "nbformat_minor": 2
}
